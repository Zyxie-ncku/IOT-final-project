{
  "cells": [
    {
      "cell_type": "code",
      "execution_count": 2,
      "metadata": {
        "id": "nRAZi94TEijr"
      },
      "outputs": [
        {
          "name": "stderr",
          "output_type": "stream",
          "text": [
            "2025-06-05 12:17:15.294179: E external/local_xla/xla/stream_executor/cuda/cuda_platform.cc:51] failed call to cuInit: INTERNAL: CUDA error: Failed call to cuInit: UNKNOWN ERROR (303)\n"
          ]
        },
        {
          "name": "stdout",
          "output_type": "stream",
          "text": [
            "\u001b[1m1/1\u001b[0m \u001b[32m━━━━━━━━━━━━━━━━━━━━\u001b[0m\u001b[37m\u001b[0m \u001b[1m0s\u001b[0m 78ms/step\n",
            "\u001b[1m1/1\u001b[0m \u001b[32m━━━━━━━━━━━━━━━━━━━━\u001b[0m\u001b[37m\u001b[0m \u001b[1m0s\u001b[0m 144ms/step\n"
          ]
        },
        {
          "name": "stderr",
          "output_type": "stream",
          "text": [
            "/home/dino/IOT-final-project/.venv/lib/python3.11/site-packages/keras/src/saving/saving_lib.py:802: UserWarning: Skipping variable loading for optimizer 'rmsprop', because it has 10 variables whereas the saved optimizer has 18 variables. \n",
            "  saveable.load_own_variables(weights_store.get(inner_path))\n",
            "WARNING: All log messages before absl::InitializeLog() is called are written to STDERR\n",
            "I0000 00:00:1749125835.665224    2358 service.cc:152] XLA service 0x7f0e0c00d7c0 initialized for platform Host (this does not guarantee that XLA will be used). Devices:\n",
            "I0000 00:00:1749125835.665250    2358 service.cc:160]   StreamExecutor device (0): Host, Default Version\n",
            "2025-06-05 12:17:15.678316: I tensorflow/compiler/mlir/tensorflow/utils/dump_mlir_util.cc:269] disabling MLIR crash reproducer, set env var `MLIR_CRASH_REPRODUCER_DIRECTORY` to enable.\n",
            "I0000 00:00:1749125835.757889    2358 device_compiler.h:188] Compiled cluster using XLA!  This line is logged at most once for the lifetime of the process.\n"
          ]
        },
        {
          "data": {
            "text/plain": [
              "array([[20.546162]], dtype=float32)"
            ]
          },
          "execution_count": 2,
          "metadata": {},
          "output_type": "execute_result"
        }
      ],
      "source": [
        "import time\n",
        "import numpy as np\n",
        "import tensorflow as tf\n",
        "\n",
        "classification_model = tf.keras.models.load_model('IOT_Model/badmiton_classification.keras')\n",
        "dummy_input = np.random.rand(1, 30, 6, 1).astype(np.float32)\n",
        "classification_model.predict(dummy_input)\n",
        "\n",
        "speedestimate_model = tf.keras.models.load_model('IOT_Model/200_speed_estimate.keras')\n",
        "dummy_input = np.random.rand(1, 30, 6).astype(np.float32)\n",
        "speedestimate_model.predict(dummy_input)"
      ]
    },
    {
      "cell_type": "markdown",
      "metadata": {
        "id": "LStj19BoFH1_"
      },
      "source": [
        "## 分類模型測試\n"
      ]
    },
    {
      "cell_type": "code",
      "execution_count": 3,
      "metadata": {
        "colab": {
          "base_uri": "https://localhost:8080/"
        },
        "id": "aYQ5VD_EE14C",
        "outputId": "7f5fba84-082f-4fb4-d69c-726ccffa4b41"
      },
      "outputs": [
        {
          "name": "stdout",
          "output_type": "stream",
          "text": [
            "🔍 平均單次推理時間: 29.60 ms\n"
          ]
        }
      ],
      "source": [
        "N = 100\n",
        "start = time.time()\n",
        "dummy_input = np.random.rand(1, 30, 6, 1).astype(np.float32)\n",
        "\n",
        "for i in range(N):\n",
        "    i = classification_model.predict(dummy_input, verbose=0)\n",
        "\n",
        "end = time.time()\n",
        "\n",
        "\n",
        "avg_inference_time = (end - start) / N\n",
        "print(f\"🔍 平均單次推理時間: {avg_inference_time * 1000:.2f} ms\")"
      ]
    },
    {
      "cell_type": "markdown",
      "metadata": {
        "id": "NEY0eKnzFKYg"
      },
      "source": [
        "## 測速模型測試"
      ]
    },
    {
      "cell_type": "code",
      "execution_count": 4,
      "metadata": {
        "colab": {
          "base_uri": "https://localhost:8080/"
        },
        "id": "SOgdieodFJ8Y",
        "outputId": "0ef3877c-6137-4ff2-d115-10d60dbba844"
      },
      "outputs": [
        {
          "name": "stdout",
          "output_type": "stream",
          "text": [
            "🔍 平均單次推理時間: 30.07 ms\n"
          ]
        }
      ],
      "source": [
        "N = 100\n",
        "start = time.time()\n",
        "\n",
        "dummy_input = np.random.rand(1, 30, 6).astype(np.float32)\n",
        "\n",
        "for i in range(N):\n",
        "    i = speedestimate_model.predict(dummy_input, verbose=0)\n",
        "\n",
        "end = time.time()\n",
        "\n",
        "\n",
        "avg_inference_time = (end - start) / N\n",
        "print(f\"🔍 平均單次推理時間: {avg_inference_time * 1000:.2f} ms\")"
      ]
    },
    {
      "cell_type": "code",
      "execution_count": null,
      "metadata": {
        "id": "rAK3YAL6F05Z"
      },
      "outputs": [],
      "source": []
    }
  ],
  "metadata": {
    "colab": {
      "provenance": []
    },
    "kernelspec": {
      "display_name": ".venv",
      "language": "python",
      "name": "python3"
    },
    "language_info": {
      "codemirror_mode": {
        "name": "ipython",
        "version": 3
      },
      "file_extension": ".py",
      "mimetype": "text/x-python",
      "name": "python",
      "nbconvert_exporter": "python",
      "pygments_lexer": "ipython3",
      "version": "3.11.2"
    }
  },
  "nbformat": 4,
  "nbformat_minor": 0
}
